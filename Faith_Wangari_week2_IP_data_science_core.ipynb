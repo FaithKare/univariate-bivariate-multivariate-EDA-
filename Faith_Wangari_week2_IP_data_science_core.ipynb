{
  "nbformat": 4,
  "nbformat_minor": 0,
  "metadata": {
    "colab": {
      "name": "Faith Wangari week2 IP data science core.ipynb",
      "provenance": [],
      "collapsed_sections": [],
      "toc_visible": true,
      "authorship_tag": "ABX9TyOSc+PcbEipPxSC6V+a96WF",
      "include_colab_link": true
    },
    "kernelspec": {
      "name": "python3",
      "display_name": "Python 3"
    }
  },
  "cells": [
    {
      "cell_type": "markdown",
      "metadata": {
        "id": "view-in-github",
        "colab_type": "text"
      },
      "source": [
        "<a href=\"https://colab.research.google.com/github/FaithKare/univariate-bivariate-multivariate-EDA-/blob/master/Faith_Wangari_week2_IP_data_science_core.ipynb\" target=\"_parent\"><img src=\"https://colab.research.google.com/assets/colab-badge.svg\" alt=\"Open In Colab\"/></a>"
      ]
    },
    {
      "cell_type": "markdown",
      "metadata": {
        "id": "WKKtY1JeA7Qm"
      },
      "source": [
        "## **DATA ANALYTICS QUESTION**\r\n"
      ]
    },
    {
      "cell_type": "markdown",
      "metadata": {
        "id": "r6vGF-hIB2bg"
      },
      "source": [
        "Which factors influenced an individual having a bank account \r\n",
        "\r\n"
      ]
    },
    {
      "cell_type": "markdown",
      "metadata": {
        "id": "ajAg5tuKgULB"
      },
      "source": [
        "### METRIC OF SUCCESS "
      ]
    },
    {
      "cell_type": "markdown",
      "metadata": {
        "id": "CwHzghhbgpgo"
      },
      "source": [
        "The metric of success would be determning which individuals have more bank accounts depending on the type of job they have,the level of eduation, the relationship with head, gender, the access to a cell phone the individual has and type of location"
      ]
    },
    {
      "cell_type": "markdown",
      "metadata": {
        "id": "c8PagaTX-JD2"
      },
      "source": [
        "### The context"
      ]
    },
    {
      "cell_type": "markdown",
      "metadata": {
        "id": "b8ZXk-ef-adz"
      },
      "source": [
        "Financial inclusion is very important in overall economic growth of a country.The data provided is collected over 3 years that is 2016 to 2018 for Kenya, Ugand, Tanzania, Rwanda. The analysis below will be used to determine which factors influence an individual having a bank account while providing insights into some of the key demograohic factors that might drive individuals financial outcomes. "
      ]
    },
    {
      "cell_type": "markdown",
      "metadata": {
        "id": "9vXvbn_k_lkV"
      },
      "source": [
        "### Validity"
      ]
    },
    {
      "cell_type": "markdown",
      "metadata": {
        "id": "IbSfcHbD_uYt"
      },
      "source": [
        "The data contains demographic information an wht financial services are used by individuals across East Africa. The data was exctracted from various Finscope surveys ranging over the three years. It was verifed that the data was sufficent for this analysis by comparing it to the fincope survey links of the specific years provided in the moringa data core LMS content."
      ]
    },
    {
      "cell_type": "code",
      "metadata": {
        "id": "xNJzyA4KCGPN"
      },
      "source": [
        "import pandas as pd\r\n",
        "import numpy as np\r\n",
        "import matplotlib.pyplot as plt\r\n",
        "import seaborn as sns"
      ],
      "execution_count": null,
      "outputs": []
    },
    {
      "cell_type": "code",
      "metadata": {
        "id": "xKtA6zKV_PHR"
      },
      "source": [
        "#loading the dataset\r\n",
        "bank = pd.read_csv(\"Financial Dataset - 1.csv\")\r\n"
      ],
      "execution_count": null,
      "outputs": []
    },
    {
      "cell_type": "markdown",
      "metadata": {
        "id": "iRsoi3OkDtek"
      },
      "source": [
        "**Checking the data**"
      ]
    },
    {
      "cell_type": "code",
      "metadata": {
        "colab": {
          "base_uri": "https://localhost:8080/"
        },
        "id": "5MGQR77OAmH9",
        "outputId": "6d9cb437-c77c-4ab4-a76e-6d595f2cf69b"
      },
      "source": [
        "#Number of records in the data\r\n",
        "bank.shape"
      ],
      "execution_count": null,
      "outputs": [
        {
          "output_type": "execute_result",
          "data": {
            "text/plain": [
              "(23524, 13)"
            ]
          },
          "metadata": {
            "tags": []
          },
          "execution_count": 4
        }
      ]
    },
    {
      "cell_type": "code",
      "metadata": {
        "colab": {
          "base_uri": "https://localhost:8080/",
          "height": 324
        },
        "id": "P9tNSEWSC5jh",
        "outputId": "8754fe1f-812b-4381-bb36-0ad9e10e5f5a"
      },
      "source": [
        "#preview of top records\r\n",
        "bank.head(5)"
      ],
      "execution_count": null,
      "outputs": [
        {
          "output_type": "execute_result",
          "data": {
            "text/html": [
              "<div>\n",
              "<style scoped>\n",
              "    .dataframe tbody tr th:only-of-type {\n",
              "        vertical-align: middle;\n",
              "    }\n",
              "\n",
              "    .dataframe tbody tr th {\n",
              "        vertical-align: top;\n",
              "    }\n",
              "\n",
              "    .dataframe thead th {\n",
              "        text-align: right;\n",
              "    }\n",
              "</style>\n",
              "<table border=\"1\" class=\"dataframe\">\n",
              "  <thead>\n",
              "    <tr style=\"text-align: right;\">\n",
              "      <th></th>\n",
              "      <th>country</th>\n",
              "      <th>year</th>\n",
              "      <th>uniqueid</th>\n",
              "      <th>Has a Bank account</th>\n",
              "      <th>Type of Location</th>\n",
              "      <th>Cell Phone Access</th>\n",
              "      <th>household_size</th>\n",
              "      <th>Respondent Age</th>\n",
              "      <th>gender_of_respondent</th>\n",
              "      <th>The relathip with head</th>\n",
              "      <th>marital_status</th>\n",
              "      <th>Level of Educuation</th>\n",
              "      <th>Type of Job</th>\n",
              "    </tr>\n",
              "  </thead>\n",
              "  <tbody>\n",
              "    <tr>\n",
              "      <th>0</th>\n",
              "      <td>Kenya</td>\n",
              "      <td>2018</td>\n",
              "      <td>uniqueid_1</td>\n",
              "      <td>Yes</td>\n",
              "      <td>Rural</td>\n",
              "      <td>Yes</td>\n",
              "      <td>3.0</td>\n",
              "      <td>24.0</td>\n",
              "      <td>Female</td>\n",
              "      <td>Spouse</td>\n",
              "      <td>Married/Living together</td>\n",
              "      <td>Secondary education</td>\n",
              "      <td>Self employed</td>\n",
              "    </tr>\n",
              "    <tr>\n",
              "      <th>1</th>\n",
              "      <td>Kenya</td>\n",
              "      <td>2018</td>\n",
              "      <td>uniqueid_2</td>\n",
              "      <td>No</td>\n",
              "      <td>Rural</td>\n",
              "      <td>No</td>\n",
              "      <td>5.0</td>\n",
              "      <td>70.0</td>\n",
              "      <td>Female</td>\n",
              "      <td>Head of Household</td>\n",
              "      <td>Widowed</td>\n",
              "      <td>No formal education</td>\n",
              "      <td>Government Dependent</td>\n",
              "    </tr>\n",
              "    <tr>\n",
              "      <th>2</th>\n",
              "      <td>Kenya</td>\n",
              "      <td>2018</td>\n",
              "      <td>uniqueid_3</td>\n",
              "      <td>Yes</td>\n",
              "      <td>Urban</td>\n",
              "      <td>Yes</td>\n",
              "      <td>5.0</td>\n",
              "      <td>26.0</td>\n",
              "      <td>Male</td>\n",
              "      <td>Other relative</td>\n",
              "      <td>Single/Never Married</td>\n",
              "      <td>Vocational/Specialised training</td>\n",
              "      <td>Self employed</td>\n",
              "    </tr>\n",
              "    <tr>\n",
              "      <th>3</th>\n",
              "      <td>Kenya</td>\n",
              "      <td>2018</td>\n",
              "      <td>uniqueid_4</td>\n",
              "      <td>No</td>\n",
              "      <td>Rural</td>\n",
              "      <td>Yes</td>\n",
              "      <td>5.0</td>\n",
              "      <td>34.0</td>\n",
              "      <td>Female</td>\n",
              "      <td>Head of Household</td>\n",
              "      <td>Married/Living together</td>\n",
              "      <td>Primary education</td>\n",
              "      <td>Formally employed Private</td>\n",
              "    </tr>\n",
              "    <tr>\n",
              "      <th>4</th>\n",
              "      <td>Kenya</td>\n",
              "      <td>2018</td>\n",
              "      <td>uniqueid_5</td>\n",
              "      <td>No</td>\n",
              "      <td>Urban</td>\n",
              "      <td>No</td>\n",
              "      <td>8.0</td>\n",
              "      <td>26.0</td>\n",
              "      <td>Male</td>\n",
              "      <td>Child</td>\n",
              "      <td>Single/Never Married</td>\n",
              "      <td>Primary education</td>\n",
              "      <td>Informally employed</td>\n",
              "    </tr>\n",
              "  </tbody>\n",
              "</table>\n",
              "</div>"
            ],
            "text/plain": [
              "  country  year  ...              Level of Educuation                Type of Job\n",
              "0   Kenya  2018  ...              Secondary education              Self employed\n",
              "1   Kenya  2018  ...              No formal education       Government Dependent\n",
              "2   Kenya  2018  ...  Vocational/Specialised training              Self employed\n",
              "3   Kenya  2018  ...                Primary education  Formally employed Private\n",
              "4   Kenya  2018  ...                Primary education        Informally employed\n",
              "\n",
              "[5 rows x 13 columns]"
            ]
          },
          "metadata": {
            "tags": []
          },
          "execution_count": 5
        }
      ]
    },
    {
      "cell_type": "code",
      "metadata": {
        "colab": {
          "base_uri": "https://localhost:8080/",
          "height": 306
        },
        "id": "fLeaCSYhDJK6",
        "outputId": "8047aa22-850a-4e61-ccfb-71e6934310f0"
      },
      "source": [
        "#preview of bottom of the dataset\r\n",
        "bank.tail()"
      ],
      "execution_count": null,
      "outputs": [
        {
          "output_type": "execute_result",
          "data": {
            "text/html": [
              "<div>\n",
              "<style scoped>\n",
              "    .dataframe tbody tr th:only-of-type {\n",
              "        vertical-align: middle;\n",
              "    }\n",
              "\n",
              "    .dataframe tbody tr th {\n",
              "        vertical-align: top;\n",
              "    }\n",
              "\n",
              "    .dataframe thead th {\n",
              "        text-align: right;\n",
              "    }\n",
              "</style>\n",
              "<table border=\"1\" class=\"dataframe\">\n",
              "  <thead>\n",
              "    <tr style=\"text-align: right;\">\n",
              "      <th></th>\n",
              "      <th>country</th>\n",
              "      <th>year</th>\n",
              "      <th>uniqueid</th>\n",
              "      <th>Has a Bank account</th>\n",
              "      <th>Type of Location</th>\n",
              "      <th>Cell Phone Access</th>\n",
              "      <th>household_size</th>\n",
              "      <th>Respondent Age</th>\n",
              "      <th>gender_of_respondent</th>\n",
              "      <th>The relathip with head</th>\n",
              "      <th>marital_status</th>\n",
              "      <th>Level of Educuation</th>\n",
              "      <th>Type of Job</th>\n",
              "    </tr>\n",
              "  </thead>\n",
              "  <tbody>\n",
              "    <tr>\n",
              "      <th>23519</th>\n",
              "      <td>Uganda</td>\n",
              "      <td>2018</td>\n",
              "      <td>uniqueid_2113</td>\n",
              "      <td>No</td>\n",
              "      <td>Rural</td>\n",
              "      <td>Yes</td>\n",
              "      <td>4.0</td>\n",
              "      <td>48.0</td>\n",
              "      <td>Female</td>\n",
              "      <td>Head of Household</td>\n",
              "      <td>Divorced/Seperated</td>\n",
              "      <td>No formal education</td>\n",
              "      <td>Other Income</td>\n",
              "    </tr>\n",
              "    <tr>\n",
              "      <th>23520</th>\n",
              "      <td>Uganda</td>\n",
              "      <td>2018</td>\n",
              "      <td>uniqueid_2114</td>\n",
              "      <td>No</td>\n",
              "      <td>Rural</td>\n",
              "      <td>Yes</td>\n",
              "      <td>2.0</td>\n",
              "      <td>27.0</td>\n",
              "      <td>Female</td>\n",
              "      <td>Head of Household</td>\n",
              "      <td>Single/Never Married</td>\n",
              "      <td>Secondary education</td>\n",
              "      <td>Other Income</td>\n",
              "    </tr>\n",
              "    <tr>\n",
              "      <th>23521</th>\n",
              "      <td>Uganda</td>\n",
              "      <td>2018</td>\n",
              "      <td>uniqueid_2115</td>\n",
              "      <td>No</td>\n",
              "      <td>Rural</td>\n",
              "      <td>Yes</td>\n",
              "      <td>5.0</td>\n",
              "      <td>27.0</td>\n",
              "      <td>Female</td>\n",
              "      <td>Parent</td>\n",
              "      <td>Widowed</td>\n",
              "      <td>Primary education</td>\n",
              "      <td>Other Income</td>\n",
              "    </tr>\n",
              "    <tr>\n",
              "      <th>23522</th>\n",
              "      <td>Uganda</td>\n",
              "      <td>2018</td>\n",
              "      <td>uniqueid_2116</td>\n",
              "      <td>No</td>\n",
              "      <td>Urban</td>\n",
              "      <td>Yes</td>\n",
              "      <td>7.0</td>\n",
              "      <td>30.0</td>\n",
              "      <td>Female</td>\n",
              "      <td>Parent</td>\n",
              "      <td>Divorced/Seperated</td>\n",
              "      <td>Secondary education</td>\n",
              "      <td>Self employed</td>\n",
              "    </tr>\n",
              "    <tr>\n",
              "      <th>23523</th>\n",
              "      <td>Uganda</td>\n",
              "      <td>2018</td>\n",
              "      <td>uniqueid_2117</td>\n",
              "      <td>No</td>\n",
              "      <td>Rural</td>\n",
              "      <td>Yes</td>\n",
              "      <td>10.0</td>\n",
              "      <td>20.0</td>\n",
              "      <td>Male</td>\n",
              "      <td>Child</td>\n",
              "      <td>Single/Never Married</td>\n",
              "      <td>Secondary education</td>\n",
              "      <td>No Income</td>\n",
              "    </tr>\n",
              "  </tbody>\n",
              "</table>\n",
              "</div>"
            ],
            "text/plain": [
              "      country  year  ...  Level of Educuation    Type of Job\n",
              "23519  Uganda  2018  ...  No formal education   Other Income\n",
              "23520  Uganda  2018  ...  Secondary education   Other Income\n",
              "23521  Uganda  2018  ...    Primary education   Other Income\n",
              "23522  Uganda  2018  ...  Secondary education  Self employed\n",
              "23523  Uganda  2018  ...  Secondary education      No Income\n",
              "\n",
              "[5 rows x 13 columns]"
            ]
          },
          "metadata": {
            "tags": []
          },
          "execution_count": 6
        }
      ]
    },
    {
      "cell_type": "code",
      "metadata": {
        "colab": {
          "base_uri": "https://localhost:8080/"
        },
        "id": "pv0jKWv-Dfpi",
        "outputId": "98e44087-a142-4d67-9299-1bea67e57e19"
      },
      "source": [
        "bank.info()"
      ],
      "execution_count": null,
      "outputs": [
        {
          "output_type": "stream",
          "text": [
            "<class 'pandas.core.frame.DataFrame'>\n",
            "RangeIndex: 23524 entries, 0 to 23523\n",
            "Data columns (total 13 columns):\n",
            " #   Column                  Non-Null Count  Dtype  \n",
            "---  ------                  --------------  -----  \n",
            " 0   country                 23510 non-null  object \n",
            " 1   year                    23524 non-null  int64  \n",
            " 2   uniqueid                23524 non-null  object \n",
            " 3   Has a Bank account      23488 non-null  object \n",
            " 4   Type of Location        23509 non-null  object \n",
            " 5   Cell Phone Access       23513 non-null  object \n",
            " 6   household_size          23496 non-null  float64\n",
            " 7   Respondent Age          23490 non-null  float64\n",
            " 8   gender_of_respondent    23490 non-null  object \n",
            " 9   The relathip with head  23520 non-null  object \n",
            " 10  marital_status          23492 non-null  object \n",
            " 11  Level of Educuation     23495 non-null  object \n",
            " 12  Type of Job             23494 non-null  object \n",
            "dtypes: float64(2), int64(1), object(10)\n",
            "memory usage: 2.3+ MB\n"
          ],
          "name": "stdout"
        }
      ]
    },
    {
      "cell_type": "markdown",
      "metadata": {
        "id": "XesKIJfcEd0A"
      },
      "source": [
        "**DATA CLEANING**"
      ]
    },
    {
      "cell_type": "code",
      "metadata": {
        "id": "9GknDcgVEi6H",
        "colab": {
          "base_uri": "https://localhost:8080/",
          "height": 398
        },
        "outputId": "63db2b7b-d1b1-4997-d61b-bb4a00cf49eb"
      },
      "source": [
        "#Checking for outliers\r\n",
        "fig, (ax1, ax2) = plt.subplots(1,2, figsize=(4, 4))\r\n",
        "fig.suptitle('Boxplots')\r\n",
        "sns.boxplot(bank['household_size'], ax=ax1)\r\n",
        "sns.boxplot(bank['Respondent Age'], ax=ax2)\r\n",
        "plt.show()\r\n"
      ],
      "execution_count": null,
      "outputs": [
        {
          "output_type": "stream",
          "text": [
            "/usr/local/lib/python3.7/dist-packages/seaborn/_decorators.py:43: FutureWarning: Pass the following variable as a keyword arg: x. From version 0.12, the only valid positional argument will be `data`, and passing other arguments without an explicit keyword will result in an error or misinterpretation.\n",
            "  FutureWarning\n",
            "/usr/local/lib/python3.7/dist-packages/seaborn/_decorators.py:43: FutureWarning: Pass the following variable as a keyword arg: x. From version 0.12, the only valid positional argument will be `data`, and passing other arguments without an explicit keyword will result in an error or misinterpretation.\n",
            "  FutureWarning\n"
          ],
          "name": "stderr"
        },
        {
          "output_type": "display_data",
          "data": {
            "image/png": "[encoded data removed]",
            "text/plain": [
              "<Figure size 288x288 with 2 Axes>"
            ]
          },
          "metadata": {
            "tags": [],
            "needs_background": "light"
          }
        }
      ]
    },
    {
      "cell_type": "code",
      "metadata": {
        "id": "3kQpQ4rjxgV1",
        "colab": {
          "base_uri": "https://localhost:8080/"
        },
        "outputId": "56f53728-303a-474e-fcfc-d89b26cb96da"
      },
      "source": [
        "#checking for anomalies\r\n",
        "Q1 = bank.quantile(0.25)\r\n",
        "Q3 = bank.quantile(0.75)\r\n",
        "IQR = Q3- Q1\r\n",
        "IQR\r\n"
      ],
      "execution_count": null,
      "outputs": [
        {
          "output_type": "execute_result",
          "data": {
            "text/plain": [
              "year               2.0\n",
              "household_size     3.0\n",
              "Respondent Age    23.0\n",
              "dtype: float64"
            ]
          },
          "metadata": {
            "tags": []
          },
          "execution_count": 9
        }
      ]
    },
    {
      "cell_type": "code",
      "metadata": {
        "id": "h5vv8U1PyLnW",
        "colab": {
          "base_uri": "https://localhost:8080/"
        },
        "outputId": "ba668804-bc8b-4478-8962-4ee5c530e0fd"
      },
      "source": [
        "#removing anomalies in the data \r\n",
        "bank1= bank[~((bank<(Q1 - 1.5* IQR)) | (bank>(Q3 + 1.5* IQR))).any(axis=1)]\r\n",
        "bank1.shape"
      ],
      "execution_count": null,
      "outputs": [
        {
          "output_type": "execute_result",
          "data": {
            "text/plain": [
              "(22903, 13)"
            ]
          },
          "metadata": {
            "tags": []
          },
          "execution_count": 10
        }
      ]
    },
    {
      "cell_type": "code",
      "metadata": {
        "colab": {
          "base_uri": "https://localhost:8080/"
        },
        "id": "Ovh4-Tc2vehZ",
        "outputId": "7d20fd79-ab2c-4470-b336-4838534b34d9"
      },
      "source": [
        "# checking for missing values in the data\r\n",
        "bank1.isnull().any()"
      ],
      "execution_count": null,
      "outputs": [
        {
          "output_type": "execute_result",
          "data": {
            "text/plain": [
              "country                    True\n",
              "year                      False\n",
              "uniqueid                  False\n",
              "Has a Bank account         True\n",
              "Type of Location           True\n",
              "Cell Phone Access          True\n",
              "household_size             True\n",
              "Respondent Age             True\n",
              "gender_of_respondent       True\n",
              "The relathip with head     True\n",
              "marital_status             True\n",
              "Level of Educuation        True\n",
              "Type of Job                True\n",
              "dtype: bool"
            ]
          },
          "metadata": {
            "tags": []
          },
          "execution_count": 11
        }
      ]
    },
    {
      "cell_type": "code",
      "metadata": {
        "id": "rc6i_kvcxRVc",
        "colab": {
          "base_uri": "https://localhost:8080/"
        },
        "outputId": "f91191b5-b326-4238-c577-c2a54e04367a"
      },
      "source": [
        "#dealing with missing values \r\n",
        "#drop rows with missing values\r\n",
        "bank2=bank1.dropna()\r\n",
        "bank2.shape"
      ],
      "execution_count": null,
      "outputs": [
        {
          "output_type": "execute_result",
          "data": {
            "text/plain": [
              "(22725, 13)"
            ]
          },
          "metadata": {
            "tags": []
          },
          "execution_count": 12
        }
      ]
    },
    {
      "cell_type": "markdown",
      "metadata": {
        "id": "ydf8HfAL3IrZ"
      },
      "source": [
        "### **UNIVARIATE ANALYSIS (EDA)**"
      ]
    },
    {
      "cell_type": "code",
      "metadata": {
        "id": "t_m7jkOmxRwN",
        "colab": {
          "base_uri": "https://localhost:8080/"
        },
        "outputId": "de54fe8d-6622-4f31-eb75-11cd692b6508"
      },
      "source": [
        "#averge age of the respondents \r\n",
        "bank2[\"Respondent Age\"].mean()"
      ],
      "execution_count": null,
      "outputs": [
        {
          "output_type": "execute_result",
          "data": {
            "text/plain": [
              "38.34798679867987"
            ]
          },
          "metadata": {
            "tags": []
          },
          "execution_count": 13
        }
      ]
    },
    {
      "cell_type": "code",
      "metadata": {
        "colab": {
          "base_uri": "https://localhost:8080/"
        },
        "id": "l33TIOmy8-PS",
        "outputId": "e4df2840-4b79-4841-d133-e23000af5145"
      },
      "source": [
        "bank2[\"Respondent Age\"].mode()"
      ],
      "execution_count": null,
      "outputs": [
        {
          "output_type": "execute_result",
          "data": {
            "text/plain": [
              "0    30.0\n",
              "dtype: float64"
            ]
          },
          "metadata": {
            "tags": []
          },
          "execution_count": 14
        }
      ]
    },
    {
      "cell_type": "code",
      "metadata": {
        "colab": {
          "base_uri": "https://localhost:8080/"
        },
        "id": "M8XiQzmf80eP",
        "outputId": "0d5fd059-532b-4ca6-8b27-8d5b40a0bb42"
      },
      "source": [
        "bank2[\"Respondent Age\"].median()"
      ],
      "execution_count": null,
      "outputs": [
        {
          "output_type": "execute_result",
          "data": {
            "text/plain": [
              "35.0"
            ]
          },
          "metadata": {
            "tags": []
          },
          "execution_count": 15
        }
      ]
    },
    {
      "cell_type": "code",
      "metadata": {
        "colab": {
          "base_uri": "https://localhost:8080/"
        },
        "id": "sF4ipDrn9KcQ",
        "outputId": "888e8627-e5ed-47b6-9c8a-591cde8eba89"
      },
      "source": [
        "bank2[\"household_size\"].mode()\r\n",
        "\r\n",
        "#most hoseholds have a size of 2 "
      ],
      "execution_count": null,
      "outputs": [
        {
          "output_type": "execute_result",
          "data": {
            "text/plain": [
              "0    2.0\n",
              "dtype: float64"
            ]
          },
          "metadata": {
            "tags": []
          },
          "execution_count": 17
        }
      ]
    },
    {
      "cell_type": "code",
      "metadata": {
        "colab": {
          "base_uri": "https://localhost:8080/"
        },
        "id": "P7iJ4zuYB6Kz",
        "outputId": "ad8c3da9-a8f3-4831-a785-5cc395dc879a"
      },
      "source": [
        "#average distance between each quantity and mean age of each respondent\r\n",
        "bank2['Respondent Age'].std()"
      ],
      "execution_count": null,
      "outputs": [
        {
          "output_type": "execute_result",
          "data": {
            "text/plain": [
              "15.806141256107674"
            ]
          },
          "metadata": {
            "tags": []
          },
          "execution_count": 18
        }
      ]
    },
    {
      "cell_type": "code",
      "metadata": {
        "colab": {
          "base_uri": "https://localhost:8080/"
        },
        "id": "5ffUl0QnCUpf",
        "outputId": "d9a05978-68f1-45fa-d29d-ec0fc8807580"
      },
      "source": [
        "#square of the average distance between each quantity and mean age of each respondent\r\n",
        "bank2['Respondent Age'].var()"
      ],
      "execution_count": null,
      "outputs": [
        {
          "output_type": "execute_result",
          "data": {
            "text/plain": [
              "249.83410140802906"
            ]
          },
          "metadata": {
            "tags": []
          },
          "execution_count": 19
        }
      ]
    },
    {
      "cell_type": "code",
      "metadata": {
        "colab": {
          "base_uri": "https://localhost:8080/"
        },
        "id": "LnoRFOx-GekZ",
        "outputId": "abd20c37-b02e-4374-f845-2edae813664e"
      },
      "source": [
        "#getting the skeweness of the respondensts age attribute\r\n",
        "bank2['Respondent Age'].skew()\r\n",
        "\r\n",
        "#the distribution is positively skewwed "
      ],
      "execution_count": null,
      "outputs": [
        {
          "output_type": "execute_result",
          "data": {
            "text/plain": [
              "0.7402138281724044"
            ]
          },
          "metadata": {
            "tags": []
          },
          "execution_count": 20
        }
      ]
    },
    {
      "cell_type": "code",
      "metadata": {
        "colab": {
          "base_uri": "https://localhost:8080/"
        },
        "id": "QAwveHR3Ekei",
        "outputId": "f68705aa-08f5-4971-d069-03823dcc0434"
      },
      "source": [
        "#getting the kurtosis of the respondents age\r\n",
        "bank2['Respondent Age'].kurt()\r\n",
        "\r\n",
        "#this is a light tailed playkurtic distribution"
      ],
      "execution_count": null,
      "outputs": [
        {
          "output_type": "execute_result",
          "data": {
            "text/plain": [
              "-0.23749387799691757"
            ]
          },
          "metadata": {
            "tags": []
          },
          "execution_count": 126
        }
      ]
    },
    {
      "cell_type": "code",
      "metadata": {
        "colab": {
          "base_uri": "https://localhost:8080/"
        },
        "id": "MgQ9KzTFH6Vo",
        "outputId": "73a33cde-aef3-4728-e9c0-be5efe78b2f4"
      },
      "source": [
        "#getting the quatiles of the respondent age\r\n",
        "bank2['Respondent Age'].quantile([0.25,0.5,0.75])\r\n",
        "\r\n",
        "#Q1 o.25 is the median of the upper half of the data\r\n",
        "#Q2 0.5 is the median of the whole data\r\n",
        "#Q3 0.75 is the median of the lower half of the data "
      ],
      "execution_count": null,
      "outputs": [
        {
          "output_type": "execute_result",
          "data": {
            "text/plain": [
              "0.25    26.0\n",
              "0.50    35.0\n",
              "0.75    48.0\n",
              "Name: Respondent Age, dtype: float64"
            ]
          },
          "metadata": {
            "tags": []
          },
          "execution_count": 21
        }
      ]
    },
    {
      "cell_type": "code",
      "metadata": {
        "colab": {
          "base_uri": "https://localhost:8080/"
        },
        "id": "x5TH9WpKQAQq",
        "outputId": "a49e19cf-9c3b-49e8-d7e0-a88b14473040"
      },
      "source": [
        "#getting the range of the respondenets ages\r\n",
        "age_max = bank2[\"Respondent Age\"].max()\r\n",
        "age_min = bank2[\"Respondent Age\"].min()\r\n",
        "age_max - age_min\r\n",
        "\r\n",
        "#the difernce between the highest and lowest age is 67"
      ],
      "execution_count": null,
      "outputs": [
        {
          "output_type": "execute_result",
          "data": {
            "text/plain": [
              "67.0"
            ]
          },
          "metadata": {
            "tags": []
          },
          "execution_count": 22
        }
      ]
    },
    {
      "cell_type": "code",
      "metadata": {
        "colab": {
          "base_uri": "https://localhost:8080/",
          "height": 312
        },
        "id": "fMT5uNahEnKd",
        "outputId": "88f5c324-f88f-4fa1-f30e-8232d7167d0b"
      },
      "source": [
        "# bar graph showing the indivivudals with and without a bank account  \r\n",
        "bank2['Has a Bank account'].value_counts().plot.barh()\r\n",
        "plt.xlabel('no of individuals')\r\n",
        "plt.ylabel('bank account status')\r\n",
        "plt.title('Indivuals with a Bank Account', fontsize= 12)\r\n",
        "\r\n",
        "#there are more people without bank accounts than those with bank accounts "
      ],
      "execution_count": null,
      "outputs": [
        {
          "output_type": "execute_result",
          "data": {
            "text/plain": [
              "Text(0.5, 1.0, 'Indivuals with a Bank Account')"
            ]
          },
          "metadata": {
            "tags": []
          },
          "execution_count": 23
        },
        {
          "output_type": "display_data",
          "data": {
            "image/png": "[encoded data removed]",
            "text/plain": [
              "<Figure size 432x288 with 1 Axes>"
            ]
          },
          "metadata": {
            "tags": [],
            "needs_background": "light"
          }
        }
      ]
    },
    {
      "cell_type": "code",
      "metadata": {
        "colab": {
          "base_uri": "https://localhost:8080/",
          "height": 312
        },
        "id": "TaQ15rMVTIVp",
        "outputId": "548dbda6-2005-4182-e0ea-343e90f25472"
      },
      "source": [
        "#bar graph of individuals with a bank account over the years\r\n",
        "bank2.groupby(['Has a Bank account'])['year'].value_counts().plot.barh()\r\n",
        "plt.xlabel('no of individuals')\r\n",
        "plt.ylabel('bank account status')\r\n",
        "plt.title('Indivuals with a Bank Account', fontsize= 12)\r\n",
        "\r\n",
        "#2018 had the highest number of indivuals with bank accounts "
      ],
      "execution_count": null,
      "outputs": [
        {
          "output_type": "execute_result",
          "data": {
            "text/plain": [
              "Text(0.5, 1.0, 'Indivuals with a Bank Account')"
            ]
          },
          "metadata": {
            "tags": []
          },
          "execution_count": 24
        },
        {
          "output_type": "display_data",
          "data": {
            "image/png": "[encoded data removed]",
            "text/plain": [
              "<Figure size 432x288 with 1 Axes>"
            ]
          },
          "metadata": {
            "tags": [],
            "needs_background": "light"
          }
        }
      ]
    },
    {
      "cell_type": "code",
      "metadata": {
        "colab": {
          "base_uri": "https://localhost:8080/",
          "height": 298
        },
        "id": "gn2PyOPrUlQd",
        "outputId": "552f106b-6243-4235-8721-2814db91daf3"
      },
      "source": [
        "plt.hist(bank2['Respondent Age'])\r\n",
        "plt.title('Histogram of Respondents ages')\r\n",
        "\r\n",
        "# the respondents age is left tailed that is positively skewed the mean is greater than the mode "
      ],
      "execution_count": null,
      "outputs": [
        {
          "output_type": "execute_result",
          "data": {
            "text/plain": [
              "Text(0.5, 1.0, 'Histogram of Respondents ages')"
            ]
          },
          "metadata": {
            "tags": []
          },
          "execution_count": 26
        },
        {
          "output_type": "display_data",
          "data": {
            "image/png": "[encoded data removed]",
            "text/plain": [
              "<Figure size 432x288 with 1 Axes>"
            ]
          },
          "metadata": {
            "tags": [],
            "needs_background": "light"
          }
        }
      ]
    },
    {
      "cell_type": "code",
      "metadata": {
        "colab": {
          "base_uri": "https://localhost:8080/",
          "height": 298
        },
        "id": "YMwRYEURVnx9",
        "outputId": "b5314c28-7aff-49a2-858f-ea917d1ac53b"
      },
      "source": [
        "plt.hist(bank2['household_size'])\r\n",
        "plt.title('Distribution of household size')\r\n"
      ],
      "execution_count": null,
      "outputs": [
        {
          "output_type": "execute_result",
          "data": {
            "text/plain": [
              "Text(0.5, 1.0, 'Distribution of household size')"
            ]
          },
          "metadata": {
            "tags": []
          },
          "execution_count": 27
        },
        {
          "output_type": "display_data",
          "data": {
            "image/png": "[encoded data removed]",
            "text/plain": [
              "<Figure size 432x288 with 1 Axes>"
            ]
          },
          "metadata": {
            "tags": [],
            "needs_background": "light"
          }
        }
      ]
    },
    {
      "cell_type": "code",
      "metadata": {
        "colab": {
          "base_uri": "https://localhost:8080/",
          "height": 350
        },
        "id": "0GUnosMcTjgy",
        "outputId": "318ef308-b48e-4282-cee3-f86047f28bb1"
      },
      "source": [
        "#histogram of respondents age with a bank account \r\n",
        "yes=bank2[bank2['Has a Bank account'] == 'Yes']\r\n",
        "sns.distplot(yes['Respondent Age'],  kde=False,label='Yes')\r\n",
        "\r\n",
        "#individuals with the most bank accounts are aged 30"
      ],
      "execution_count": null,
      "outputs": [
        {
          "output_type": "stream",
          "text": [
            "/usr/local/lib/python3.7/dist-packages/seaborn/distributions.py:2557: FutureWarning: `distplot` is a deprecated function and will be removed in a future version. Please adapt your code to use either `displot` (a figure-level function with similar flexibility) or `histplot` (an axes-level function for histograms).\n",
            "  warnings.warn(msg, FutureWarning)\n"
          ],
          "name": "stderr"
        },
        {
          "output_type": "execute_result",
          "data": {
            "text/plain": [
              "<matplotlib.axes._subplots.AxesSubplot at 0x7fc863d70790>"
            ]
          },
          "metadata": {
            "tags": []
          },
          "execution_count": 133
        },
        {
          "output_type": "display_data",
          "data": {
            "image/png": "[encoded data removed]",
            "text/plain": [
              "<Figure size 432x288 with 1 Axes>"
            ]
          },
          "metadata": {
            "tags": [],
            "needs_background": "light"
          }
        }
      ]
    },
    {
      "cell_type": "code",
      "metadata": {
        "colab": {
          "base_uri": "https://localhost:8080/",
          "height": 356
        },
        "id": "Lo_mNXZtQzHI",
        "outputId": "8947ded2-6af7-4a40-f2d0-81aa39be917e"
      },
      "source": [
        "#histogram of households size with a bank account \r\n",
        "yes = bank2[bank2['Has a Bank account'] == 'Yes']\r\n",
        "sns.distplot(yes['household_size'],  kde=False,label='Yes')\r\n",
        "\r\n",
        "#individuas with household size 1 have the highest number of bank accounts "
      ],
      "execution_count": null,
      "outputs": [
        {
          "output_type": "stream",
          "text": [
            "/usr/local/lib/python3.7/dist-packages/seaborn/distributions.py:2557: FutureWarning: `distplot` is a deprecated function and will be removed in a future version. Please adapt your code to use either `displot` (a figure-level function with similar flexibility) or `histplot` (an axes-level function for histograms).\n",
            "  warnings.warn(msg, FutureWarning)\n"
          ],
          "name": "stderr"
        },
        {
          "output_type": "execute_result",
          "data": {
            "text/plain": [
              "<matplotlib.axes._subplots.AxesSubplot at 0x7fc863c61e50>"
            ]
          },
          "metadata": {
            "tags": []
          },
          "execution_count": 134
        },
        {
          "output_type": "display_data",
          "data": {
            "image/png": "[encoded data removed]",
            "text/plain": [
              "<Figure size 432x288 with 1 Axes>"
            ]
          },
          "metadata": {
            "tags": [],
            "needs_background": "light"
          }
        }
      ]
    },
    {
      "cell_type": "code",
      "metadata": {
        "colab": {
          "base_uri": "https://localhost:8080/",
          "height": 264
        },
        "id": "ECaAQhmS5Psp",
        "outputId": "70226658-642b-46dc-bd7e-586353374a99"
      },
      "source": [
        "sum = bank2['Has a Bank account'].value_counts()\r\n",
        "status = ['No', 'Yes']\r\n",
        "plt.pie(sum, labels = status, autopct = '%1.1f%%', shadow = True, startangle = 140)\r\n",
        "plt.axis('equal')\r\n",
        "plt.title('Pie Chart of Bank account Status')\r\n",
        "plt.show()\r\n",
        "\r\n",
        "#the perentage of individuls with bank accounts is significantly less than those without bank accounts "
      ],
      "execution_count": null,
      "outputs": [
        {
          "output_type": "display_data",
          "data": {
            "image/png": "[encoded data removed]",
            "text/plain": [
              "<Figure size 432x288 with 1 Axes>"
            ]
          },
          "metadata": {
            "tags": []
          }
        }
      ]
    },
    {
      "cell_type": "code",
      "metadata": {
        "colab": {
          "base_uri": "https://localhost:8080/",
          "height": 264
        },
        "id": "JRsAFXpGzPxC",
        "outputId": "36d2db5b-a9ec-42a7-8978-95d273c98a7a"
      },
      "source": [
        "#pie chart of female and male respondents in the data \r\n",
        "\r\n",
        "sum = bank2['gender_of_respondent'].value_counts()\r\n",
        "gender = ['Female', 'Male']\r\n",
        "plt.pie(sum, labels = gender, autopct = '%1.1f%%', shadow = True, startangle = 140)\r\n",
        "plt.axis('equal')\r\n",
        "plt.title('Pie Chart of Gender')\r\n",
        "plt.show()\r\n",
        "\r\n",
        "#there are more females than males"
      ],
      "execution_count": null,
      "outputs": [
        {
          "output_type": "display_data",
          "data": {
            "image/png": "[encoded data removed]",
            "text/plain": [
              "<Figure size 432x288 with 1 Axes>"
            ]
          },
          "metadata": {
            "tags": []
          }
        }
      ]
    },
    {
      "cell_type": "code",
      "metadata": {
        "colab": {
          "base_uri": "https://localhost:8080/",
          "height": 172
        },
        "id": "jsvvIfiG445I",
        "outputId": "f77718c3-3f96-4d40-e9b1-3475d981b918"
      },
      "source": [
        "pd.crosstab(index=bank2['Has a Bank account'],columns=bank2[\"gender_of_respondent\"],margins=True)\r\n",
        "\r\n",
        "# males have more bank accounts than females"
      ],
      "execution_count": null,
      "outputs": [
        {
          "output_type": "execute_result",
          "data": {
            "text/html": [
              "<div>\n",
              "<style scoped>\n",
              "    .dataframe tbody tr th:only-of-type {\n",
              "        vertical-align: middle;\n",
              "    }\n",
              "\n",
              "    .dataframe tbody tr th {\n",
              "        vertical-align: top;\n",
              "    }\n",
              "\n",
              "    .dataframe thead th {\n",
              "        text-align: right;\n",
              "    }\n",
              "</style>\n",
              "<table border=\"1\" class=\"dataframe\">\n",
              "  <thead>\n",
              "    <tr style=\"text-align: right;\">\n",
              "      <th>gender_of_respondent</th>\n",
              "      <th>Female</th>\n",
              "      <th>Male</th>\n",
              "      <th>All</th>\n",
              "    </tr>\n",
              "    <tr>\n",
              "      <th>Has a Bank account</th>\n",
              "      <th></th>\n",
              "      <th></th>\n",
              "      <th></th>\n",
              "    </tr>\n",
              "  </thead>\n",
              "  <tbody>\n",
              "    <tr>\n",
              "      <th>No</th>\n",
              "      <td>11944</td>\n",
              "      <td>7546</td>\n",
              "      <td>19490</td>\n",
              "    </tr>\n",
              "    <tr>\n",
              "      <th>Yes</th>\n",
              "      <td>1453</td>\n",
              "      <td>1782</td>\n",
              "      <td>3235</td>\n",
              "    </tr>\n",
              "    <tr>\n",
              "      <th>All</th>\n",
              "      <td>13397</td>\n",
              "      <td>9328</td>\n",
              "      <td>22725</td>\n",
              "    </tr>\n",
              "  </tbody>\n",
              "</table>\n",
              "</div>"
            ],
            "text/plain": [
              "gender_of_respondent  Female  Male    All\n",
              "Has a Bank account                       \n",
              "No                     11944  7546  19490\n",
              "Yes                     1453  1782   3235\n",
              "All                    13397  9328  22725"
            ]
          },
          "metadata": {
            "tags": []
          },
          "execution_count": 137
        }
      ]
    },
    {
      "cell_type": "code",
      "metadata": {
        "colab": {
          "base_uri": "https://localhost:8080/"
        },
        "id": "V3cHoLZRpyla",
        "outputId": "a91522cd-c810-4b7f-bbf6-f8af67e0024c"
      },
      "source": [
        "bank2['Type of Location'].value_counts()\r\n",
        "\r\n",
        "#here are more inividuals living in rural areas than in urban areas "
      ],
      "execution_count": null,
      "outputs": [
        {
          "output_type": "execute_result",
          "data": {
            "text/plain": [
              "Rural    13810\n",
              "Urban     8915\n",
              "Name: Type of Location, dtype: int64"
            ]
          },
          "metadata": {
            "tags": []
          },
          "execution_count": 30
        }
      ]
    },
    {
      "cell_type": "code",
      "metadata": {
        "colab": {
          "base_uri": "https://localhost:8080/"
        },
        "id": "zX1buOAYp-7L",
        "outputId": "557efba2-c572-4aa2-bdc7-a5da490da7e4"
      },
      "source": [
        "bank2['Cell Phone Access'].value_counts()\r\n",
        "\r\n",
        "#the data shows there are more people with access to cell phones than those without cell phones"
      ],
      "execution_count": null,
      "outputs": [
        {
          "output_type": "execute_result",
          "data": {
            "text/plain": [
              "Yes    16985\n",
              "No      5740\n",
              "Name: Cell Phone Access, dtype: int64"
            ]
          },
          "metadata": {
            "tags": []
          },
          "execution_count": 31
        }
      ]
    },
    {
      "cell_type": "markdown",
      "metadata": {
        "id": "yV6gGmOAXuKN"
      },
      "source": [
        "### Recommendations For Univariate Analysis"
      ]
    },
    {
      "cell_type": "markdown",
      "metadata": {
        "id": "67-E3hduge6_"
      },
      "source": [
        "From the analysis it is evident that the individuals wthout bank accounts is 85.8% which is a very high percentage indicating that the financial inclusion in Kenya, Uganda, Rwanda and Tanzania is very low. The year 2018 has the most recorded number of people with bank accounts followed by the year 2016 then 2017. The data shows that females population is slighty higher than males at 59.0% and 41.0% respectively and there are more people living in rural areas than in urban areas. Moreover there are more people with cell phone access than those without therefore in order to increase financial inclusion i would recommend financial insititutions to focus on these highly populated areas that is rural areas and the individuals with cell phone access in order to increase financial inclusion and eventually the countrys economic growth inreases. "
      ]
    },
    {
      "cell_type": "markdown",
      "metadata": {
        "id": "zxA8Zp7OVhnE"
      },
      "source": [
        "### **BIVARIATE ANALYSIS**"
      ]
    },
    {
      "cell_type": "code",
      "metadata": {
        "id": "D4KB-txBvdZL",
        "colab": {
          "base_uri": "https://localhost:8080/",
          "height": 690
        },
        "outputId": "4e08174b-8644-4d0f-e803-41dea0de66c4"
      },
      "source": [
        "#plotting bivariate summaries (scatter plots) of the quantitative data  \r\n",
        "sns.pairplot(bank2, size=3)\r\n",
        "plt.show()"
      ],
      "execution_count": null,
      "outputs": [
        {
          "output_type": "stream",
          "text": [
            "/usr/local/lib/python3.7/dist-packages/seaborn/axisgrid.py:1969: UserWarning: The `size` parameter has been renamed to `height`; please update your code.\n",
            "  warnings.warn(msg, UserWarning)\n"
          ],
          "name": "stderr"
        },
        {
          "output_type": "display_data",
          "data": {
            "image/png": "[encoded data removed]",
            "text/plain": [
              "<Figure size 648x648 with 12 Axes>"
            ]
          },
          "metadata": {
            "tags": [],
            "needs_background": "light"
          }
        }
      ]
    },
    {
      "cell_type": "code",
      "metadata": {
        "colab": {
          "base_uri": "https://localhost:8080/",
          "height": 141
        },
        "id": "LeohqXfKaap6",
        "outputId": "31fca775-e639-402f-80f1-a6778bc4b60d"
      },
      "source": [
        "#pearson correlation co efficient \r\n",
        "bank1.corr()\r\n",
        "\r\n",
        "#respondents age and household size have a negative weak correlation of -0.106239\r\n",
        "#The years and household size have a negative  very weak correlation of -0.097401\r\n",
        "#The years and respondent age have a negative weak correlaton of -0.024005\r\n"
      ],
      "execution_count": null,
      "outputs": [
        {
          "output_type": "execute_result",
          "data": {
            "text/html": [
              "<div>\n",
              "<style scoped>\n",
              "    .dataframe tbody tr th:only-of-type {\n",
              "        vertical-align: middle;\n",
              "    }\n",
              "\n",
              "    .dataframe tbody tr th {\n",
              "        vertical-align: top;\n",
              "    }\n",
              "\n",
              "    .dataframe thead th {\n",
              "        text-align: right;\n",
              "    }\n",
              "</style>\n",
              "<table border=\"1\" class=\"dataframe\">\n",
              "  <thead>\n",
              "    <tr style=\"text-align: right;\">\n",
              "      <th></th>\n",
              "      <th>year</th>\n",
              "      <th>household_size</th>\n",
              "      <th>Respondent Age</th>\n",
              "    </tr>\n",
              "  </thead>\n",
              "  <tbody>\n",
              "    <tr>\n",
              "      <th>year</th>\n",
              "      <td>1.000000</td>\n",
              "      <td>-0.097401</td>\n",
              "      <td>-0.024005</td>\n",
              "    </tr>\n",
              "    <tr>\n",
              "      <th>household_size</th>\n",
              "      <td>-0.097401</td>\n",
              "      <td>1.000000</td>\n",
              "      <td>-0.106239</td>\n",
              "    </tr>\n",
              "    <tr>\n",
              "      <th>Respondent Age</th>\n",
              "      <td>-0.024005</td>\n",
              "      <td>-0.106239</td>\n",
              "      <td>1.000000</td>\n",
              "    </tr>\n",
              "  </tbody>\n",
              "</table>\n",
              "</div>"
            ],
            "text/plain": [
              "                    year  household_size  Respondent Age\n",
              "year            1.000000       -0.097401       -0.024005\n",
              "household_size -0.097401        1.000000       -0.106239\n",
              "Respondent Age -0.024005       -0.106239        1.000000"
            ]
          },
          "metadata": {
            "tags": []
          },
          "execution_count": 37
        }
      ]
    },
    {
      "cell_type": "code",
      "metadata": {
        "colab": {
          "base_uri": "https://localhost:8080/",
          "height": 270
        },
        "id": "hsnPhCjuxWKS",
        "outputId": "013002a2-5469-48e4-c21f-8124712beb51"
      },
      "source": [
        "#a heat map of the pearson correlation \r\n",
        "\r\n",
        "sns.heatmap(bank1.corr(),annot=True)\r\n",
        "plt.show()"
      ],
      "execution_count": null,
      "outputs": [
        {
          "output_type": "display_data",
          "data": {
            "image/png": "[encoded data removed]",
            "text/plain": [
              "<Figure size 432x288 with 2 Axes>"
            ]
          },
          "metadata": {
            "tags": [],
            "needs_background": "light"
          }
        }
      ]
    },
    {
      "cell_type": "code",
      "metadata": {
        "colab": {
          "base_uri": "https://localhost:8080/",
          "height": 313
        },
        "id": "w0jH4Y8tdNa-",
        "outputId": "0823b2d0-5802-4ad0-a1c9-eb6e04b1d5fd"
      },
      "source": [
        "#Line graph of individuals with/without bank accounts in rural and urban areas\r\n",
        "\r\n",
        "bank2.groupby(['Has a Bank account'])['Type of Location'].value_counts().plot.line()\r\n",
        "plt.xlabel('Bank account status in urban and rural')\r\n",
        "plt.ylabel('No of individuls')\r\n",
        "plt.title('Line graph of individuals with/without bank accounts in rural and urban areas', fontsize= 14)\r\n",
        "\r\n"
      ],
      "execution_count": null,
      "outputs": [
        {
          "output_type": "execute_result",
          "data": {
            "text/plain": [
              "Text(0.5, 1.0, 'Line graph of individuals with/without bank accounts in rural and urban areas')"
            ]
          },
          "metadata": {
            "tags": []
          },
          "execution_count": 39
        },
        {
          "output_type": "display_data",
          "data": {
            "image/png": "[encoded data removed]",
            "text/plain": [
              "<Figure size 432x288 with 1 Axes>"
            ]
          },
          "metadata": {
            "tags": [],
            "needs_background": "light"
          }
        }
      ]
    },
    {
      "cell_type": "code",
      "metadata": {
        "colab": {
          "base_uri": "https://localhost:8080/",
          "height": 312
        },
        "id": "YHw7XHxXpCMg",
        "outputId": "1696e6a0-9766-4012-e816-7027d9bdea87"
      },
      "source": [
        "#bar graph of individuals with a  bank account in rural and urban areas\r\n",
        "bank2.groupby(['Has a Bank account'])['Type of Location'].value_counts().plot.barh()\r\n",
        "plt.xlabel('no of individuals')\r\n",
        "plt.ylabel('bank account status')\r\n",
        "plt.title('Indivuals with a Bank Account', fontsize= 12)\r\n",
        "\r\n",
        "# urban areas have a slightly higher number of individuals with bank acoounts than rural areas"
      ],
      "execution_count": null,
      "outputs": [
        {
          "output_type": "execute_result",
          "data": {
            "text/plain": [
              "Text(0.5, 1.0, 'Indivuals with a Bank Account')"
            ]
          },
          "metadata": {
            "tags": []
          },
          "execution_count": 40
        },
        {
          "output_type": "display_data",
          "data": {
            "image/png": "[encoded data removed]",
            "text/plain": [
              "<Figure size 432x288 with 1 Axes>"
            ]
          },
          "metadata": {
            "tags": [],
            "needs_background": "light"
          }
        }
      ]
    },
    {
      "cell_type": "code",
      "metadata": {
        "colab": {
          "base_uri": "https://localhost:8080/",
          "height": 313
        },
        "id": "EfV_e-ojd9CE",
        "outputId": "ff7dfddc-2f9c-48f5-d3bb-5a055bc63baa"
      },
      "source": [
        "bank2.groupby(['Has a Bank account'])['The relathip with head'].value_counts().plot.barh()\r\n",
        "plt.xlabel('no of individuals')\r\n",
        "plt.ylabel('bank account status')\r\n",
        "plt.title('Bank account status of members of the household', fontsize= 14)\r\n",
        "\r\n",
        "#the head of the households have more bank accounts than any other member of the household "
      ],
      "execution_count": null,
      "outputs": [
        {
          "output_type": "execute_result",
          "data": {
            "text/plain": [
              "Text(0.5, 1.0, 'Bank account status of members of the household')"
            ]
          },
          "metadata": {
            "tags": []
          },
          "execution_count": 41
        },
        {
          "output_type": "display_data",
          "data": {
            "image/png": "[encoded data removed]",
            "text/plain": [
              "<Figure size 432x288 with 1 Axes>"
            ]
          },
          "metadata": {
            "tags": [],
            "needs_background": "light"
          }
        }
      ]
    },
    {
      "cell_type": "code",
      "metadata": {
        "colab": {
          "base_uri": "https://localhost:8080/",
          "height": 313
        },
        "id": "S3ZOjSZntAYh",
        "outputId": "7b9b515b-24ee-437c-9618-ddc12f52b10e"
      },
      "source": [
        "bank2.groupby(['Has a Bank account'])['marital_status'].value_counts().plot.barh()\r\n",
        "plt.xlabel('No of individuals')\r\n",
        "plt.ylabel('Bank account/Marital status')\r\n",
        "plt.title('Marital status Bar Graph of Individuals with/Without Bank accounts', fontsize= 14)\r\n",
        "\r\n",
        "#individuals who are married and living together have more bank accounts than all other individuals with differnt marital status\r\n"
      ],
      "execution_count": null,
      "outputs": [
        {
          "output_type": "execute_result",
          "data": {
            "text/plain": [
              "Text(0.5, 1.0, 'Marital status Bar Graph of Individuals with/Without Bank accounts')"
            ]
          },
          "metadata": {
            "tags": []
          },
          "execution_count": 42
        },
        {
          "output_type": "display_data",
          "data": {
            "image/png": "[encoded data removed]",
            "text/plain": [
              "<Figure size 432x288 with 1 Axes>"
            ]
          },
          "metadata": {
            "tags": [],
            "needs_background": "light"
          }
        }
      ]
    },
    {
      "cell_type": "code",
      "metadata": {
        "colab": {
          "base_uri": "https://localhost:8080/",
          "height": 313
        },
        "id": "8K3JdjHYvTG5",
        "outputId": "492a3a4b-50e0-480b-b2c7-858a0981165e"
      },
      "source": [
        "bank2.groupby(['Has a Bank account'])['Level of Educuation'].value_counts().plot.barh()\r\n",
        "plt.xlabel('No of individuals')\r\n",
        "plt.ylabel('Bank account/Level of Education')\r\n",
        "plt.title('Level of Education Bar Graph of Individuals with/Without Bank accounts', fontsize= 14)\r\n",
        "\r\n",
        "#indivuals with atleast primary level education have the most recorded number of bank accounts \r\n"
      ],
      "execution_count": null,
      "outputs": [
        {
          "output_type": "execute_result",
          "data": {
            "text/plain": [
              "Text(0.5, 1.0, 'Level of Education Bar Graph of Individuals with/Without Bank accounts')"
            ]
          },
          "metadata": {
            "tags": []
          },
          "execution_count": 148
        },
        {
          "output_type": "display_data",
          "data": {
            "image/png": "[encoded data removed]",
            "text/plain": [
              "<Figure size 432x288 with 1 Axes>"
            ]
          },
          "metadata": {
            "tags": [],
            "needs_background": "light"
          }
        }
      ]
    },
    {
      "cell_type": "code",
      "metadata": {
        "colab": {
          "base_uri": "https://localhost:8080/",
          "height": 206
        },
        "id": "deMCbAMGqtr-",
        "outputId": "11fba1a9-5708-4c78-d56f-04ad791fc90d"
      },
      "source": [
        "pd.crosstab(index=bank2['Has a Bank account'],columns=bank2[\"Type of Job\"],margins=True)\r\n",
        "\r\n",
        "#individuals who are self emlployed have the highest number of people with bank accounts with a count of 835"
      ],
      "execution_count": null,
      "outputs": [
        {
          "output_type": "execute_result",
          "data": {
            "text/html": [
              "<div>\n",
              "<style scoped>\n",
              "    .dataframe tbody tr th:only-of-type {\n",
              "        vertical-align: middle;\n",
              "    }\n",
              "\n",
              "    .dataframe tbody tr th {\n",
              "        vertical-align: top;\n",
              "    }\n",
              "\n",
              "    .dataframe thead th {\n",
              "        text-align: right;\n",
              "    }\n",
              "</style>\n",
              "<table border=\"1\" class=\"dataframe\">\n",
              "  <thead>\n",
              "    <tr style=\"text-align: right;\">\n",
              "      <th>Type of Job</th>\n",
              "      <th>Dont Know/Refuse to answer</th>\n",
              "      <th>Farming and Fishing</th>\n",
              "      <th>Formally employed Government</th>\n",
              "      <th>Formally employed Private</th>\n",
              "      <th>Government Dependent</th>\n",
              "      <th>Informally employed</th>\n",
              "      <th>No Income</th>\n",
              "      <th>Other Income</th>\n",
              "      <th>Remittance Dependent</th>\n",
              "      <th>Self employed</th>\n",
              "      <th>All</th>\n",
              "    </tr>\n",
              "    <tr>\n",
              "      <th>Has a Bank account</th>\n",
              "      <th></th>\n",
              "      <th></th>\n",
              "      <th></th>\n",
              "      <th></th>\n",
              "      <th></th>\n",
              "      <th></th>\n",
              "      <th></th>\n",
              "      <th></th>\n",
              "      <th></th>\n",
              "      <th></th>\n",
              "      <th></th>\n",
              "    </tr>\n",
              "  </thead>\n",
              "  <tbody>\n",
              "    <tr>\n",
              "      <th>No</th>\n",
              "      <td>104</td>\n",
              "      <td>4676</td>\n",
              "      <td>85</td>\n",
              "      <td>471</td>\n",
              "      <td>168</td>\n",
              "      <td>5052</td>\n",
              "      <td>572</td>\n",
              "      <td>843</td>\n",
              "      <td>2145</td>\n",
              "      <td>5374</td>\n",
              "      <td>19490</td>\n",
              "    </tr>\n",
              "    <tr>\n",
              "      <th>Yes</th>\n",
              "      <td>14</td>\n",
              "      <td>620</td>\n",
              "      <td>297</td>\n",
              "      <td>564</td>\n",
              "      <td>41</td>\n",
              "      <td>438</td>\n",
              "      <td>13</td>\n",
              "      <td>183</td>\n",
              "      <td>230</td>\n",
              "      <td>835</td>\n",
              "      <td>3235</td>\n",
              "    </tr>\n",
              "    <tr>\n",
              "      <th>All</th>\n",
              "      <td>118</td>\n",
              "      <td>5296</td>\n",
              "      <td>382</td>\n",
              "      <td>1035</td>\n",
              "      <td>209</td>\n",
              "      <td>5490</td>\n",
              "      <td>585</td>\n",
              "      <td>1026</td>\n",
              "      <td>2375</td>\n",
              "      <td>6209</td>\n",
              "      <td>22725</td>\n",
              "    </tr>\n",
              "  </tbody>\n",
              "</table>\n",
              "</div>"
            ],
            "text/plain": [
              "Type of Job         Dont Know/Refuse to answer  ...    All\n",
              "Has a Bank account                              ...       \n",
              "No                                         104  ...  19490\n",
              "Yes                                         14  ...   3235\n",
              "All                                        118  ...  22725\n",
              "\n",
              "[3 rows x 11 columns]"
            ]
          },
          "metadata": {
            "tags": []
          },
          "execution_count": 43
        }
      ]
    },
    {
      "cell_type": "code",
      "metadata": {
        "colab": {
          "base_uri": "https://localhost:8080/",
          "height": 172
        },
        "id": "xDiQHuEKqvi9",
        "outputId": "999b9d6b-59f7-471b-9df7-a5c5d7e76d18"
      },
      "source": [
        "pd.crosstab(index=bank2['Has a Bank account'],columns=bank2[\"Cell Phone Access\"],margins=True)\r\n",
        "\r\n",
        "# individuals with access to cell phones have more bank accounts than inividuals without access to cell phones "
      ],
      "execution_count": null,
      "outputs": [
        {
          "output_type": "execute_result",
          "data": {
            "text/html": [
              "<div>\n",
              "<style scoped>\n",
              "    .dataframe tbody tr th:only-of-type {\n",
              "        vertical-align: middle;\n",
              "    }\n",
              "\n",
              "    .dataframe tbody tr th {\n",
              "        vertical-align: top;\n",
              "    }\n",
              "\n",
              "    .dataframe thead th {\n",
              "        text-align: right;\n",
              "    }\n",
              "</style>\n",
              "<table border=\"1\" class=\"dataframe\">\n",
              "  <thead>\n",
              "    <tr style=\"text-align: right;\">\n",
              "      <th>Cell Phone Access</th>\n",
              "      <th>No</th>\n",
              "      <th>Yes</th>\n",
              "      <th>All</th>\n",
              "    </tr>\n",
              "    <tr>\n",
              "      <th>Has a Bank account</th>\n",
              "      <th></th>\n",
              "      <th></th>\n",
              "      <th></th>\n",
              "    </tr>\n",
              "  </thead>\n",
              "  <tbody>\n",
              "    <tr>\n",
              "      <th>No</th>\n",
              "      <td>5647</td>\n",
              "      <td>13843</td>\n",
              "      <td>19490</td>\n",
              "    </tr>\n",
              "    <tr>\n",
              "      <th>Yes</th>\n",
              "      <td>93</td>\n",
              "      <td>3142</td>\n",
              "      <td>3235</td>\n",
              "    </tr>\n",
              "    <tr>\n",
              "      <th>All</th>\n",
              "      <td>5740</td>\n",
              "      <td>16985</td>\n",
              "      <td>22725</td>\n",
              "    </tr>\n",
              "  </tbody>\n",
              "</table>\n",
              "</div>"
            ],
            "text/plain": [
              "Cell Phone Access     No    Yes    All\n",
              "Has a Bank account                    \n",
              "No                  5647  13843  19490\n",
              "Yes                   93   3142   3235\n",
              "All                 5740  16985  22725"
            ]
          },
          "metadata": {
            "tags": []
          },
          "execution_count": 45
        }
      ]
    },
    {
      "cell_type": "code",
      "metadata": {
        "colab": {
          "base_uri": "https://localhost:8080/",
          "height": 172
        },
        "id": "s2AcauzGrtVM",
        "outputId": "b0b94e62-7b8a-4b0d-add8-c9bb01dfb1e0"
      },
      "source": [
        "cellphone = bank2[(bank2['Cell Phone Access'] == 'Yes')]\r\n",
        "pd.crosstab(index=cellphone['Has a Bank account'],columns=cellphone[\"Type of Location\"],margins=True)\r\n",
        "\r\n",
        "#individuals with access to cell phones and those living in the urban areas have slighty more bank accounts than people with access to cell phones living in rural areas "
      ],
      "execution_count": null,
      "outputs": [
        {
          "output_type": "execute_result",
          "data": {
            "text/html": [
              "<div>\n",
              "<style scoped>\n",
              "    .dataframe tbody tr th:only-of-type {\n",
              "        vertical-align: middle;\n",
              "    }\n",
              "\n",
              "    .dataframe tbody tr th {\n",
              "        vertical-align: top;\n",
              "    }\n",
              "\n",
              "    .dataframe thead th {\n",
              "        text-align: right;\n",
              "    }\n",
              "</style>\n",
              "<table border=\"1\" class=\"dataframe\">\n",
              "  <thead>\n",
              "    <tr style=\"text-align: right;\">\n",
              "      <th>Type of Location</th>\n",
              "      <th>Rural</th>\n",
              "      <th>Urban</th>\n",
              "      <th>All</th>\n",
              "    </tr>\n",
              "    <tr>\n",
              "      <th>Has a Bank account</th>\n",
              "      <th></th>\n",
              "      <th></th>\n",
              "      <th></th>\n",
              "    </tr>\n",
              "  </thead>\n",
              "  <tbody>\n",
              "    <tr>\n",
              "      <th>No</th>\n",
              "      <td>9199</td>\n",
              "      <td>4644</td>\n",
              "      <td>13843</td>\n",
              "    </tr>\n",
              "    <tr>\n",
              "      <th>Yes</th>\n",
              "      <td>1554</td>\n",
              "      <td>1588</td>\n",
              "      <td>3142</td>\n",
              "    </tr>\n",
              "    <tr>\n",
              "      <th>All</th>\n",
              "      <td>10753</td>\n",
              "      <td>6232</td>\n",
              "      <td>16985</td>\n",
              "    </tr>\n",
              "  </tbody>\n",
              "</table>\n",
              "</div>"
            ],
            "text/plain": [
              "Type of Location    Rural  Urban    All\n",
              "Has a Bank account                     \n",
              "No                   9199   4644  13843\n",
              "Yes                  1554   1588   3142\n",
              "All                 10753   6232  16985"
            ]
          },
          "metadata": {
            "tags": []
          },
          "execution_count": 49
        }
      ]
    },
    {
      "cell_type": "markdown",
      "metadata": {
        "id": "VkBvk5bo7Jgd"
      },
      "source": [
        "### Recommendation for Bivariate Analysis"
      ]
    },
    {
      "cell_type": "markdown",
      "metadata": {
        "id": "tlRevft7o2o2"
      },
      "source": [
        "The analysis gives the following insights and appropriate recommendations are derived from it:\r\n",
        "a) Individuals living in urban areas have a slightly higher recorded number of people with bank accounts than people living in rural areas despite their being a higher population in rural than urban areas. As discussed earlier it would be wise to focuss on financial inlusion in rural ares inorder to capture the bigger part of the population t increase economic growth.\r\n",
        "b) Individuals with atleast primary level education have the most recorded bank accounts folowed closely by individuals with secondary and tertiary education.\r\n",
        "c) The type of job one has is also a factor as self employed people have more bank acounts than any other job and individuals with no income have the least number of bank accounts followed closely by people who are dependent on the government. The farming/fishing job and the informally employed individuals have a high popuation but low count of people with bank accounts. I would therefore reccommend that these types of jobs be considered more while trying to increase the financial inclusion.\r\n",
        "d) Married people living together have more bank accounts than all other individuals with differnt marital status while those that are widowed have the least bank accounts. \r\n",
        "e) Moreover the head of the households have more bank acounts than any other memebers of the househols. \r\n",
        "Finally the people with cell phones living in urban areas have a slighlty higher count of bank accounts than people with cell phones living in rural areas. To increase economic growth i would recommend to increase financial inclusion in the rural areas as it has the higher population. "
      ]
    },
    {
      "cell_type": "markdown",
      "metadata": {
        "id": "njkwqPUx67Xx"
      },
      "source": [
        "### **MULTIVARIATE ANALYSIS (REDUCTION)**"
      ]
    },
    {
      "cell_type": "code",
      "metadata": {
        "colab": {
          "base_uri": "https://localhost:8080/",
          "height": 1000
        },
        "id": "akY8psQ2e5Bo",
        "outputId": "e8d84a4b-1629-4073-a88c-419ffd730899"
      },
      "source": [
        "#change variable types to category then encode the categorical data via cat.code accessor\r\n",
        "bank2[\"Cell Phone Access\"] = bank2[\"Cell Phone Access\"].astype('category')\r\n",
        "bank2[\"Cell Phone Access\"] = bank2[\"Cell Phone Access\"].cat.codes\r\n",
        "\r\n",
        "bank2[\"gender_of_respondent\"] = bank2[\"gender_of_respondent\"].astype('category')\r\n",
        "bank2[\"gender_of_respondent\"] = bank2[\"gender_of_respondent\"].cat.codes\r\n",
        "\r\n",
        "bank2[\"Type of Location\"] = bank2[\"Type of Location\"].astype('category')\r\n",
        "bank2[\"Type of Location\"] = bank2[\"Type of Location\"].cat.codes\r\n",
        "\r\n",
        "bank2[\"Type of Job\"] = bank2[\"Type of Job\"].astype('category')\r\n",
        "bank2[\"Type of Job\"] = bank2[\"Type of Job\"].cat.codes\r\n",
        "\r\n",
        "bank2[\"Level of Educuation\"] = bank2[\"Level of Educuation\"].astype('category')\r\n",
        "bank2[\"Level of Educuation\"] = bank2[\"Level of Educuation\"].cat.codes\r\n",
        "\r\n",
        "bank2[\"marital_status\"] = bank2[\"marital_status\"].astype('category')\r\n",
        "bank2[\"marital_status\"] = bank2[\"marital_status\"].cat.codes\r\n",
        "\r\n",
        "bank2[\"The relathip with head\"] = bank2[\"The relathip with head\"].astype('category')\r\n",
        "bank2[\"The relathip with head\"] = bank2[\"The relathip with head\"].cat.codes\r\n",
        "\r\n",
        "bank2"
      ],
      "execution_count": null,
      "outputs": [
        {
          "output_type": "stream",
          "text": [
            "/usr/local/lib/python3.7/dist-packages/ipykernel_launcher.py:2: SettingWithCopyWarning: \n",
            "A value is trying to be set on a copy of a slice from a DataFrame.\n",
            "Try using .loc[row_indexer,col_indexer] = value instead\n",
            "\n",
            "See the caveats in the documentation: https://pandas.pydata.org/pandas-docs/stable/user_guide/indexing.html#returning-a-view-versus-a-copy\n",
            "  \n",
            "/usr/local/lib/python3.7/dist-packages/ipykernel_launcher.py:3: SettingWithCopyWarning: \n",
            "A value is trying to be set on a copy of a slice from a DataFrame.\n",
            "Try using .loc[row_indexer,col_indexer] = value instead\n",
            "\n",
            "See the caveats in the documentation: https://pandas.pydata.org/pandas-docs/stable/user_guide/indexing.html#returning-a-view-versus-a-copy\n",
            "  This is separate from the ipykernel package so we can avoid doing imports until\n",
            "/usr/local/lib/python3.7/dist-packages/ipykernel_launcher.py:5: SettingWithCopyWarning: \n",
            "A value is trying to be set on a copy of a slice from a DataFrame.\n",
            "Try using .loc[row_indexer,col_indexer] = value instead\n",
            "\n",
            "See the caveats in the documentation: https://pandas.pydata.org/pandas-docs/stable/user_guide/indexing.html#returning-a-view-versus-a-copy\n",
            "  \"\"\"\n",
            "/usr/local/lib/python3.7/dist-packages/ipykernel_launcher.py:6: SettingWithCopyWarning: \n",
            "A value is trying to be set on a copy of a slice from a DataFrame.\n",
            "Try using .loc[row_indexer,col_indexer] = value instead\n",
            "\n",
            "See the caveats in the documentation: https://pandas.pydata.org/pandas-docs/stable/user_guide/indexing.html#returning-a-view-versus-a-copy\n",
            "  \n",
            "/usr/local/lib/python3.7/dist-packages/ipykernel_launcher.py:8: SettingWithCopyWarning: \n",
            "A value is trying to be set on a copy of a slice from a DataFrame.\n",
            "Try using .loc[row_indexer,col_indexer] = value instead\n",
            "\n",
            "See the caveats in the documentation: https://pandas.pydata.org/pandas-docs/stable/user_guide/indexing.html#returning-a-view-versus-a-copy\n",
            "  \n",
            "/usr/local/lib/python3.7/dist-packages/ipykernel_launcher.py:9: SettingWithCopyWarning: \n",
            "A value is trying to be set on a copy of a slice from a DataFrame.\n",
            "Try using .loc[row_indexer,col_indexer] = value instead\n",
            "\n",
            "See the caveats in the documentation: https://pandas.pydata.org/pandas-docs/stable/user_guide/indexing.html#returning-a-view-versus-a-copy\n",
            "  if __name__ == '__main__':\n",
            "/usr/local/lib/python3.7/dist-packages/ipykernel_launcher.py:11: SettingWithCopyWarning: \n",
            "A value is trying to be set on a copy of a slice from a DataFrame.\n",
            "Try using .loc[row_indexer,col_indexer] = value instead\n",
            "\n",
            "See the caveats in the documentation: https://pandas.pydata.org/pandas-docs/stable/user_guide/indexing.html#returning-a-view-versus-a-copy\n",
            "  # This is added back by InteractiveShellApp.init_path()\n",
            "/usr/local/lib/python3.7/dist-packages/ipykernel_launcher.py:12: SettingWithCopyWarning: \n",
            "A value is trying to be set on a copy of a slice from a DataFrame.\n",
            "Try using .loc[row_indexer,col_indexer] = value instead\n",
            "\n",
            "See the caveats in the documentation: https://pandas.pydata.org/pandas-docs/stable/user_guide/indexing.html#returning-a-view-versus-a-copy\n",
            "  if sys.path[0] == '':\n",
            "/usr/local/lib/python3.7/dist-packages/ipykernel_launcher.py:14: SettingWithCopyWarning: \n",
            "A value is trying to be set on a copy of a slice from a DataFrame.\n",
            "Try using .loc[row_indexer,col_indexer] = value instead\n",
            "\n",
            "See the caveats in the documentation: https://pandas.pydata.org/pandas-docs/stable/user_guide/indexing.html#returning-a-view-versus-a-copy\n",
            "  \n",
            "/usr/local/lib/python3.7/dist-packages/ipykernel_launcher.py:15: SettingWithCopyWarning: \n",
            "A value is trying to be set on a copy of a slice from a DataFrame.\n",
            "Try using .loc[row_indexer,col_indexer] = value instead\n",
            "\n",
            "See the caveats in the documentation: https://pandas.pydata.org/pandas-docs/stable/user_guide/indexing.html#returning-a-view-versus-a-copy\n",
            "  from ipykernel import kernelapp as app\n",
            "/usr/local/lib/python3.7/dist-packages/ipykernel_launcher.py:17: SettingWithCopyWarning: \n",
            "A value is trying to be set on a copy of a slice from a DataFrame.\n",
            "Try using .loc[row_indexer,col_indexer] = value instead\n",
            "\n",
            "See the caveats in the documentation: https://pandas.pydata.org/pandas-docs/stable/user_guide/indexing.html#returning-a-view-versus-a-copy\n",
            "/usr/local/lib/python3.7/dist-packages/ipykernel_launcher.py:18: SettingWithCopyWarning: \n",
            "A value is trying to be set on a copy of a slice from a DataFrame.\n",
            "Try using .loc[row_indexer,col_indexer] = value instead\n",
            "\n",
            "See the caveats in the documentation: https://pandas.pydata.org/pandas-docs/stable/user_guide/indexing.html#returning-a-view-versus-a-copy\n",
            "/usr/local/lib/python3.7/dist-packages/ipykernel_launcher.py:20: SettingWithCopyWarning: \n",
            "A value is trying to be set on a copy of a slice from a DataFrame.\n",
            "Try using .loc[row_indexer,col_indexer] = value instead\n",
            "\n",
            "See the caveats in the documentation: https://pandas.pydata.org/pandas-docs/stable/user_guide/indexing.html#returning-a-view-versus-a-copy\n",
            "/usr/local/lib/python3.7/dist-packages/ipykernel_launcher.py:21: SettingWithCopyWarning: \n",
            "A value is trying to be set on a copy of a slice from a DataFrame.\n",
            "Try using .loc[row_indexer,col_indexer] = value instead\n",
            "\n",
            "See the caveats in the documentation: https://pandas.pydata.org/pandas-docs/stable/user_guide/indexing.html#returning-a-view-versus-a-copy\n"
          ],
          "name": "stderr"
        },
        {
          "output_type": "execute_result",
          "data": {
            "text/html": [
              "<div>\n",
              "<style scoped>\n",
              "    .dataframe tbody tr th:only-of-type {\n",
              "        vertical-align: middle;\n",
              "    }\n",
              "\n",
              "    .dataframe tbody tr th {\n",
              "        vertical-align: top;\n",
              "    }\n",
              "\n",
              "    .dataframe thead th {\n",
              "        text-align: right;\n",
              "    }\n",
              "</style>\n",
              "<table border=\"1\" class=\"dataframe\">\n",
              "  <thead>\n",
              "    <tr style=\"text-align: right;\">\n",
              "      <th></th>\n",
              "      <th>country</th>\n",
              "      <th>year</th>\n",
              "      <th>uniqueid</th>\n",
              "      <th>Has a Bank account</th>\n",
              "      <th>Type of Location</th>\n",
              "      <th>Cell Phone Access</th>\n",
              "      <th>household_size</th>\n",
              "      <th>Respondent Age</th>\n",
              "      <th>gender_of_respondent</th>\n",
              "      <th>The relathip with head</th>\n",
              "      <th>marital_status</th>\n",
              "      <th>Level of Educuation</th>\n",
              "      <th>Type of Job</th>\n",
              "    </tr>\n",
              "  </thead>\n",
              "  <tbody>\n",
              "    <tr>\n",
              "      <th>0</th>\n",
              "      <td>Kenya</td>\n",
              "      <td>2018</td>\n",
              "      <td>uniqueid_1</td>\n",
              "      <td>Yes</td>\n",
              "      <td>0</td>\n",
              "      <td>1</td>\n",
              "      <td>3.0</td>\n",
              "      <td>24.0</td>\n",
              "      <td>0</td>\n",
              "      <td>5</td>\n",
              "      <td>2</td>\n",
              "      <td>4</td>\n",
              "      <td>9</td>\n",
              "    </tr>\n",
              "    <tr>\n",
              "      <th>1</th>\n",
              "      <td>Kenya</td>\n",
              "      <td>2018</td>\n",
              "      <td>uniqueid_2</td>\n",
              "      <td>No</td>\n",
              "      <td>0</td>\n",
              "      <td>0</td>\n",
              "      <td>5.0</td>\n",
              "      <td>70.0</td>\n",
              "      <td>0</td>\n",
              "      <td>1</td>\n",
              "      <td>4</td>\n",
              "      <td>1</td>\n",
              "      <td>4</td>\n",
              "    </tr>\n",
              "    <tr>\n",
              "      <th>2</th>\n",
              "      <td>Kenya</td>\n",
              "      <td>2018</td>\n",
              "      <td>uniqueid_3</td>\n",
              "      <td>Yes</td>\n",
              "      <td>1</td>\n",
              "      <td>1</td>\n",
              "      <td>5.0</td>\n",
              "      <td>26.0</td>\n",
              "      <td>1</td>\n",
              "      <td>3</td>\n",
              "      <td>3</td>\n",
              "      <td>6</td>\n",
              "      <td>9</td>\n",
              "    </tr>\n",
              "    <tr>\n",
              "      <th>3</th>\n",
              "      <td>Kenya</td>\n",
              "      <td>2018</td>\n",
              "      <td>uniqueid_4</td>\n",
              "      <td>No</td>\n",
              "      <td>0</td>\n",
              "      <td>1</td>\n",
              "      <td>5.0</td>\n",
              "      <td>34.0</td>\n",
              "      <td>0</td>\n",
              "      <td>1</td>\n",
              "      <td>2</td>\n",
              "      <td>3</td>\n",
              "      <td>3</td>\n",
              "    </tr>\n",
              "    <tr>\n",
              "      <th>4</th>\n",
              "      <td>Kenya</td>\n",
              "      <td>2018</td>\n",
              "      <td>uniqueid_5</td>\n",
              "      <td>No</td>\n",
              "      <td>1</td>\n",
              "      <td>0</td>\n",
              "      <td>8.0</td>\n",
              "      <td>26.0</td>\n",
              "      <td>1</td>\n",
              "      <td>0</td>\n",
              "      <td>3</td>\n",
              "      <td>3</td>\n",
              "      <td>5</td>\n",
              "    </tr>\n",
              "    <tr>\n",
              "      <th>...</th>\n",
              "      <td>...</td>\n",
              "      <td>...</td>\n",
              "      <td>...</td>\n",
              "      <td>...</td>\n",
              "      <td>...</td>\n",
              "      <td>...</td>\n",
              "      <td>...</td>\n",
              "      <td>...</td>\n",
              "      <td>...</td>\n",
              "      <td>...</td>\n",
              "      <td>...</td>\n",
              "      <td>...</td>\n",
              "      <td>...</td>\n",
              "    </tr>\n",
              "    <tr>\n",
              "      <th>23512</th>\n",
              "      <td>Uganda</td>\n",
              "      <td>2018</td>\n",
              "      <td>uniqueid_2102</td>\n",
              "      <td>No</td>\n",
              "      <td>0</td>\n",
              "      <td>0</td>\n",
              "      <td>2.0</td>\n",
              "      <td>57.0</td>\n",
              "      <td>0</td>\n",
              "      <td>1</td>\n",
              "      <td>0</td>\n",
              "      <td>1</td>\n",
              "      <td>7</td>\n",
              "    </tr>\n",
              "    <tr>\n",
              "      <th>23519</th>\n",
              "      <td>Uganda</td>\n",
              "      <td>2018</td>\n",
              "      <td>uniqueid_2113</td>\n",
              "      <td>No</td>\n",
              "      <td>0</td>\n",
              "      <td>1</td>\n",
              "      <td>4.0</td>\n",
              "      <td>48.0</td>\n",
              "      <td>0</td>\n",
              "      <td>1</td>\n",
              "      <td>0</td>\n",
              "      <td>1</td>\n",
              "      <td>7</td>\n",
              "    </tr>\n",
              "    <tr>\n",
              "      <th>23520</th>\n",
              "      <td>Uganda</td>\n",
              "      <td>2018</td>\n",
              "      <td>uniqueid_2114</td>\n",
              "      <td>No</td>\n",
              "      <td>0</td>\n",
              "      <td>1</td>\n",
              "      <td>2.0</td>\n",
              "      <td>27.0</td>\n",
              "      <td>0</td>\n",
              "      <td>1</td>\n",
              "      <td>3</td>\n",
              "      <td>4</td>\n",
              "      <td>7</td>\n",
              "    </tr>\n",
              "    <tr>\n",
              "      <th>23521</th>\n",
              "      <td>Uganda</td>\n",
              "      <td>2018</td>\n",
              "      <td>uniqueid_2115</td>\n",
              "      <td>No</td>\n",
              "      <td>0</td>\n",
              "      <td>1</td>\n",
              "      <td>5.0</td>\n",
              "      <td>27.0</td>\n",
              "      <td>0</td>\n",
              "      <td>4</td>\n",
              "      <td>4</td>\n",
              "      <td>3</td>\n",
              "      <td>7</td>\n",
              "    </tr>\n",
              "    <tr>\n",
              "      <th>23522</th>\n",
              "      <td>Uganda</td>\n",
              "      <td>2018</td>\n",
              "      <td>uniqueid_2116</td>\n",
              "      <td>No</td>\n",
              "      <td>1</td>\n",
              "      <td>1</td>\n",
              "      <td>7.0</td>\n",
              "      <td>30.0</td>\n",
              "      <td>0</td>\n",
              "      <td>4</td>\n",
              "      <td>0</td>\n",
              "      <td>4</td>\n",
              "      <td>9</td>\n",
              "    </tr>\n",
              "  </tbody>\n",
              "</table>\n",
              "<p>22725 rows × 13 columns</p>\n",
              "</div>"
            ],
            "text/plain": [
              "      country  year  ... Level of Educuation Type of Job\n",
              "0       Kenya  2018  ...                   4           9\n",
              "1       Kenya  2018  ...                   1           4\n",
              "2       Kenya  2018  ...                   6           9\n",
              "3       Kenya  2018  ...                   3           3\n",
              "4       Kenya  2018  ...                   3           5\n",
              "...       ...   ...  ...                 ...         ...\n",
              "23512  Uganda  2018  ...                   1           7\n",
              "23519  Uganda  2018  ...                   1           7\n",
              "23520  Uganda  2018  ...                   4           7\n",
              "23521  Uganda  2018  ...                   3           7\n",
              "23522  Uganda  2018  ...                   4           9\n",
              "\n",
              "[22725 rows x 13 columns]"
            ]
          },
          "metadata": {
            "tags": []
          },
          "execution_count": 52
        }
      ]
    },
    {
      "cell_type": "code",
      "metadata": {
        "colab": {
          "base_uri": "https://localhost:8080/",
          "height": 202
        },
        "id": "Mmh1RXllwLgB",
        "outputId": "19bb872e-ecf7-4465-fffa-8c1ded0388c8"
      },
      "source": [
        "bank3 = bank2.drop(['country','year','uniqueid','household_size','Respondent Age'], axis =1)\r\n",
        "bank3.head()"
      ],
      "execution_count": null,
      "outputs": [
        {
          "output_type": "execute_result",
          "data": {
            "text/html": [
              "<div>\n",
              "<style scoped>\n",
              "    .dataframe tbody tr th:only-of-type {\n",
              "        vertical-align: middle;\n",
              "    }\n",
              "\n",
              "    .dataframe tbody tr th {\n",
              "        vertical-align: top;\n",
              "    }\n",
              "\n",
              "    .dataframe thead th {\n",
              "        text-align: right;\n",
              "    }\n",
              "</style>\n",
              "<table border=\"1\" class=\"dataframe\">\n",
              "  <thead>\n",
              "    <tr style=\"text-align: right;\">\n",
              "      <th></th>\n",
              "      <th>Has a Bank account</th>\n",
              "      <th>Type of Location</th>\n",
              "      <th>Cell Phone Access</th>\n",
              "      <th>gender_of_respondent</th>\n",
              "      <th>The relathip with head</th>\n",
              "      <th>marital_status</th>\n",
              "      <th>Level of Educuation</th>\n",
              "      <th>Type of Job</th>\n",
              "    </tr>\n",
              "  </thead>\n",
              "  <tbody>\n",
              "    <tr>\n",
              "      <th>0</th>\n",
              "      <td>Yes</td>\n",
              "      <td>0</td>\n",
              "      <td>1</td>\n",
              "      <td>0</td>\n",
              "      <td>5</td>\n",
              "      <td>2</td>\n",
              "      <td>4</td>\n",
              "      <td>9</td>\n",
              "    </tr>\n",
              "    <tr>\n",
              "      <th>1</th>\n",
              "      <td>No</td>\n",
              "      <td>0</td>\n",
              "      <td>0</td>\n",
              "      <td>0</td>\n",
              "      <td>1</td>\n",
              "      <td>4</td>\n",
              "      <td>1</td>\n",
              "      <td>4</td>\n",
              "    </tr>\n",
              "    <tr>\n",
              "      <th>2</th>\n",
              "      <td>Yes</td>\n",
              "      <td>1</td>\n",
              "      <td>1</td>\n",
              "      <td>1</td>\n",
              "      <td>3</td>\n",
              "      <td>3</td>\n",
              "      <td>6</td>\n",
              "      <td>9</td>\n",
              "    </tr>\n",
              "    <tr>\n",
              "      <th>3</th>\n",
              "      <td>No</td>\n",
              "      <td>0</td>\n",
              "      <td>1</td>\n",
              "      <td>0</td>\n",
              "      <td>1</td>\n",
              "      <td>2</td>\n",
              "      <td>3</td>\n",
              "      <td>3</td>\n",
              "    </tr>\n",
              "    <tr>\n",
              "      <th>4</th>\n",
              "      <td>No</td>\n",
              "      <td>1</td>\n",
              "      <td>0</td>\n",
              "      <td>1</td>\n",
              "      <td>0</td>\n",
              "      <td>3</td>\n",
              "      <td>3</td>\n",
              "      <td>5</td>\n",
              "    </tr>\n",
              "  </tbody>\n",
              "</table>\n",
              "</div>"
            ],
            "text/plain": [
              "  Has a Bank account  Type of Location  ...  Level of Educuation  Type of Job\n",
              "0                Yes                 0  ...                    4            9\n",
              "1                 No                 0  ...                    1            4\n",
              "2                Yes                 1  ...                    6            9\n",
              "3                 No                 0  ...                    3            3\n",
              "4                 No                 1  ...                    3            5\n",
              "\n",
              "[5 rows x 8 columns]"
            ]
          },
          "metadata": {
            "tags": []
          },
          "execution_count": 70
        }
      ]
    },
    {
      "cell_type": "code",
      "metadata": {
        "id": "diSy6HZ61cXH"
      },
      "source": [
        "#divide the daatset into feature and corresponding lables \r\n",
        "# the column has a  bank acount will be the feature set in y and the rest of the variabes will be the corresponding lables in x\r\n",
        "\r\n",
        "X = bank3.drop('Has a Bank account', 1)\r\n",
        "y = bank3['Has a Bank account']"
      ],
      "execution_count": null,
      "outputs": []
    },
    {
      "cell_type": "code",
      "metadata": {
        "id": "uPGhBUrJ1c3m"
      },
      "source": [
        "#then split the dataset into train and test sets\r\n",
        "from sklearn.model_selection import train_test_split\r\n",
        "\r\n",
        "X_train, X_test, y_train, y_test = train_test_split(X, y, test_size=0.2, random_state=0)"
      ],
      "execution_count": null,
      "outputs": []
    },
    {
      "cell_type": "code",
      "metadata": {
        "id": "KeCe30ng2BBR"
      },
      "source": [
        " #performing PCA using Python's Scikit-Learn library.\r\n",
        " #Call the fit and then transform methods by passing the feature set to these methods. \r\n",
        " #all seven of the features in the feature set will be returned for both the training and test sets.\r\n",
        "\r\n",
        "\r\n",
        "from sklearn.decomposition import PCA\r\n",
        "pca = PCA()\r\n",
        "X_train = pca.fit_transform(X_train)\r\n",
        "X_test = pca.transform(X_test)"
      ],
      "execution_count": null,
      "outputs": []
    },
    {
      "cell_type": "code",
      "metadata": {
        "colab": {
          "base_uri": "https://localhost:8080/"
        },
        "id": "ZoGMzX7J2B_e",
        "outputId": "f00aa25b-e880-461d-992f-bab9fbade18b"
      },
      "source": [
        "#variance caused by each principal component\r\n",
        "explained_variance = pca.explained_variance_ratio_\r\n",
        "explained_variance\r\n",
        "\r\n",
        "#the first principal coponent is responsible for 59.1% variance\r\n",
        "#the second principal coponent is responsible for 22.5% variance\r\n",
        "#the third principal coponent is responsible for 9.2% variance\r\n",
        "#the fourth principal coponent is responsible for 1.2% variance\r\n",
        "#first an second principle components are responsible for \r\n",
        "#85.4% percent of the classification information contained in the feature set is captured by the first two principal components.\r\n"
      ],
      "execution_count": null,
      "outputs": [
        {
          "output_type": "execute_result",
          "data": {
            "text/plain": [
              "array([0.59185757, 0.22546104, 0.092219  , 0.05701685, 0.01260294,\n",
              "       0.01104778, 0.00979481])"
            ]
          },
          "metadata": {
            "tags": []
          },
          "execution_count": 76
        }
      ]
    },
    {
      "cell_type": "code",
      "metadata": {
        "id": "PmtUokblfmIZ"
      },
      "source": [
        "from sklearn.decomposition import PCA\r\n",
        "\r\n",
        "pca = PCA(n_components=1)\r\n",
        "X_train = pca.fit_transform(X_train)\r\n",
        "X_test = pca.transform(X_test)"
      ],
      "execution_count": null,
      "outputs": []
    },
    {
      "cell_type": "code",
      "metadata": {
        "id": "Eow4ZfERftqd"
      },
      "source": [
        "from sklearn.ensemble import RandomForestClassifier\r\n",
        "\r\n",
        "classifier = RandomForestClassifier(max_depth=2, random_state=0)\r\n",
        "classifier.fit(X_train, y_train)\r\n",
        "\r\n",
        "# Predicting the Test set results\r\n",
        "y_pred = classifier.predict(X_test)"
      ],
      "execution_count": null,
      "outputs": []
    },
    {
      "cell_type": "code",
      "metadata": {
        "colab": {
          "base_uri": "https://localhost:8080/"
        },
        "id": "85ylhjQ7ft-4",
        "outputId": "cfffb30b-7b4b-4dc2-a045-248d61a91807"
      },
      "source": [
        "from sklearn.metrics import confusion_matrix\r\n",
        "from sklearn.metrics import accuracy_score\r\n",
        "\r\n",
        "cm = confusion_matrix(y_test, y_pred)\r\n",
        "print(cm)\r\n",
        "print('Accuracy' , accuracy_score(y_test, y_pred))\r\n"
      ],
      "execution_count": null,
      "outputs": [
        {
          "output_type": "stream",
          "text": [
            "[[3764  132]\n",
            " [ 469  180]]\n",
            "Accuracy 0.8677667766776678\n"
          ],
          "name": "stdout"
        }
      ]
    },
    {
      "cell_type": "markdown",
      "metadata": {
        "id": "UukSC1t9013o"
      },
      "source": [
        "### Recommenations for Multivariate Analysis"
      ]
    },
    {
      "cell_type": "markdown",
      "metadata": {
        "id": "xfg4rQ890-Xg"
      },
      "source": [
        " From the results we can see that the accuracy achieved with principal component is 86.6% .\r\n",
        " we therfore take principal components that contribute to significant variance and ignore those with diminishing variance returns that is principal component 1\r\n",
        "\r\n"
      ]
    },
    {
      "cell_type": "markdown",
      "metadata": {
        "id": "PWs8ZoYC1r8E"
      },
      "source": [
        "### **CHALLENGING THE SOLUTION**"
      ]
    },
    {
      "cell_type": "markdown",
      "metadata": {
        "id": "OQOqZlcl1yjD"
      },
      "source": [
        "The solutons given from the  univariate and bivariate analysis can be imporved by analysing data for different years and different countries separatley to get better insights for the specific countries. Moreover the variables can be grouped further for example head of households who have a certain level of education and the type of job they have could be analysed to see how this factors grouped together affect an individual having a bank account.   \r\n",
        "Multivariate analysis could be done using other techniques that is factor analyis. \r\n",
        "Factor Analysis (FA) is an exploratory data analysis method used to search influential underlying factors or latent variables from a set of observed variables. It helps in data interpretations by reducing the number of variables. It extracts maximum common variance from all variables and puts them into a common score.There are broadly two kinds of factor analysis, Exploratory Factor Analysis (EFA) and Confirmatory Factor Analysis (CFA).  In this set of data EFA would be the better technique.EFA is where the variables that are highly correlated to each other are grouped. This group is known as a ‘factor’. Once this factor is created, it looks for another set of variables and groups them, making another factor. The number of factors that are to be created depends on the analyst and N (number of observed variables) number of factors can be created (i.e. one factor for each observed variable). This N number is decided based on a number of factors."
      ]
    }
  ]
}